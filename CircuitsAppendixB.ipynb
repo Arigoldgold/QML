{
 "cells": [
  {
   "cell_type": "markdown",
   "metadata": {},
   "source": [
    "Reproduction, Circuits 1-3 Appendix B, [Hubregtsen2020]"
   ]
  },
  {
   "cell_type": "code",
   "execution_count": null,
   "metadata": {},
   "outputs": [],
   "source": [
    "def layer(theta):\n",
    "    qml.RX(theta[0], wires=0)\n",
    "    qml.RX(theta[1], wires=1)\n",
    "    qml.RX(theta[2], wires=2)\n",
    "    qml.RX(theta[3], wires=3)\n",
    "    qml.RZ(theta[4], wires=0)\n",
    "    qml.RZ(theta[5], wires=1)\n",
    "    qml.RZ(theta[6], wires=2)\n",
    "    qml.RZ(theta[7], wires=3)\n",
    "    qml.CNOT(wires=[3, 2])\n",
    "    qml.CNOT(wires=[2, 1])\n",
    "    qml.CNOT(wires=[1, 0])"
   ]
  },
  {
   "cell_type": "code",
   "execution_count": 1,
   "metadata": {},
   "outputs": [
    {
     "name": "stdout",
     "output_type": "stream",
     "text": [
      "1.0\n",
      " 0: ──RX(0)──RZ(0)──┤     \n",
      " 1: ──RX(1)──RZ(0)──┤     \n",
      " 2: ──RX(0)──RZ(0)──┤     \n",
      " 3: ──RX(0)──RZ(0)──┤ ⟨Z⟩ \n",
      "\n"
     ]
    }
   ],
   "source": [
    "#Circuit 1\n",
    "\n",
    "import pennylane as qml\n",
    "from pennylane import numpy as np\n",
    "\n",
    "# create a device to execute the circuit on\n",
    "dev1 = qml.device(\"default.qubit\", wires=4)\n",
    "\n",
    "# Create a Quantum Circuit with 4 qubits\n",
    "#add a PauliX on every qubit\n",
    "#add a Pauli z on every qubit\n",
    "\n",
    "@qml.qnode(dev1)\n",
    "def circuit(params):\n",
    "    qml.RX(params[0], wires=0)\n",
    "    qml.RX(params[1], wires=1)\n",
    "    qml.RX(params[2], wires=2)\n",
    "    qml.RX(params[3], wires=3)\n",
    "    qml.RZ(params[4], wires=0)\n",
    "    qml.RZ(params[5], wires=1)\n",
    "    qml.RZ(params[6], wires=2)\n",
    "    qml.RZ(params[7], wires=3)\n",
    "    return qml.expval(qml.PauliZ(3))\n",
    "print(circuit([0,1,0,0,0,0,0,0,0]))\n",
    "print(circuit.draw())"
   ]
  },
  {
   "cell_type": "code",
   "execution_count": 2,
   "metadata": {},
   "outputs": [
    {
     "name": "stdout",
     "output_type": "stream",
     "text": [
      "1.0\n",
      " 0: ──RX(1)──RZ(0)──────────╭X──┤     \n",
      " 1: ──RX(1)──RZ(0)──────╭X──╰C──┤     \n",
      " 2: ──RX(0)──RZ(0)──╭X──╰C──────┤     \n",
      " 3: ──RX(0)──RZ(0)──╰C──────────┤ ⟨Z⟩ \n",
      "\n"
     ]
    }
   ],
   "source": [
    "#Circuit 2\n",
    "import pennylane as qml\n",
    "from pennylane import numpy as np\n",
    "\n",
    "# create a device to execute the circuit on\n",
    "dev1 = qml.device(\"default.qubit\", wires=4)\n",
    "\n",
    "# Create a Quantum Circuit with 4 qubits\n",
    "#add a PauliX on every qubit\n",
    "#add a Pauli z on every qubit\n",
    "#add a CNOT gate control on qubit 3 and target qubit 2\n",
    "##add a CNOT gate control on qubit 2 and target qubit 1\n",
    "##add a CNOT gate control on qubit 0 and target qubit 1 :qml.CNOT(wires=[0, 1])..0 to 1 vice versa\n",
    "\n",
    "@qml.qnode(dev1)\n",
    "def circuit(params):\n",
    "    qml.RX(params[0], wires=0)\n",
    "    qml.RX(params[1], wires=1)\n",
    "    qml.RX(params[2], wires=2)\n",
    "    qml.RX(params[3], wires=3)\n",
    "    qml.RZ(params[4], wires=0)\n",
    "    qml.RZ(params[5], wires=1)\n",
    "    qml.RZ(params[6], wires=2)\n",
    "    qml.RZ(params[7], wires=3)\n",
    "    qml.CNOT(wires=[3, 2])\n",
    "    qml.CNOT(wires=[2, 1])\n",
    "    qml.CNOT(wires=[1, 0])\n",
    "    return qml.expval(qml.PauliZ(3))\n",
    "print(circuit([1,1,0,0,0,0,0,0,0]))\n",
    "print(circuit.draw())\n",
    "\n",
    "\n"
   ]
  },
  {
   "cell_type": "code",
   "execution_count": 3,
   "metadata": {},
   "outputs": [
    {
     "name": "stdout",
     "output_type": "stream",
     "text": [
      "0.9999999999999999\n",
      " 0: ──RX(0)────RZ(0)────────────────────╭RZ(0)──┤     \n",
      " 1: ──RX(1)────RZ(0.4)──────────╭RZ(0)──╰C──────┤     \n",
      " 2: ──RX(0.3)──RZ(0)────╭RZ(0)──╰C──────────────┤     \n",
      " 3: ──RX(0)────RZ(0)────╰C──────────────────────┤ ⟨Z⟩ \n",
      "\n"
     ]
    }
   ],
   "source": [
    "#Circuit3\n",
    "\n",
    "import pennylane as qml\n",
    "from pennylane import numpy as np\n",
    "\n",
    "# create a device to execute the circuit on\n",
    "dev1 = qml.device(\"default.qubit\", wires=4)\n",
    "\n",
    "# Create a Quantum Circuit with 4 qubits\n",
    "#add a PauliX on every qubit\n",
    "#add a Pauli z on every qubit\n",
    "#The first wire provided corresponds to the control qubit.\n",
    "##add a controled z operator on quibit 3 and target qubit 2: qml.CZ(wires=[3, 2])\n",
    "##add a controled z operator on quibit 2 and target qubit 1: qml.CZ(wires=[2, 1])\n",
    "##add a controled z operator on quibit 1 and target qubit 0: qml.CZ(wires=[1, 0])\n",
    "\n",
    "@qml.qnode(dev1)\n",
    "def circuit(params):\n",
    "    qml.RX(params[0], wires=0)\n",
    "    qml.RX(params[1], wires=1)\n",
    "    qml.RX(params[2], wires=2)\n",
    "    qml.RX(params[3], wires=3)\n",
    "    qml.RZ(params[4], wires=0)\n",
    "    qml.RZ(params[5], wires=1)\n",
    "    qml.RZ(params[6], wires=2)\n",
    "    qml.RZ(params[7], wires=3)\n",
    "    qml.CRZ(params[8],wires=[3, 2])\n",
    "    qml.CRZ(params[9],wires=[2, 1])\n",
    "    qml.CRZ(params[10],wires=[1, 0])\n",
    "    return qml.expval(qml.PauliZ(3))\n",
    "print(circuit([0,1,0.3,0,0,0.4,0,0,0,0,0]))\n",
    "print(circuit.draw())\n",
    "\n"
   ]
  },
  {
   "cell_type": "code",
   "execution_count": null,
   "metadata": {},
   "outputs": [],
   "source": []
  }
 ],
 "metadata": {
  "kernelspec": {
   "display_name": "Python 3",
   "language": "python",
   "name": "python3"
  },
  "language_info": {
   "codemirror_mode": {
    "name": "ipython",
    "version": 3
   },
   "file_extension": ".py",
   "mimetype": "text/x-python",
   "name": "python",
   "nbconvert_exporter": "python",
   "pygments_lexer": "ipython3",
   "version": "3.8.5"
  }
 },
 "nbformat": 4,
 "nbformat_minor": 4
}
