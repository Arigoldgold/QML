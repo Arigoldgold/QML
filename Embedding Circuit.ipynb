{
 "cells": [
  {
   "cell_type": "markdown",
   "metadata": {},
   "source": [
    "Embedding Circuit, [Hubregtsen2020]"
   ]
  },
  {
   "cell_type": "code",
   "execution_count": 4,
   "metadata": {},
   "outputs": [
    {
     "name": "stdout",
     "output_type": "stream",
     "text": [
      "0.6755249097756639\n",
      " 0: ──RX(0.2)──RY(0.785)──RZ(0.785)──┤     \n",
      " 1: ──RX(0.3)──RY(0.785)──RZ(0.785)──┤     \n",
      " 2: ──RX(0.2)──RY(0.785)──RZ(0.785)──┤     \n",
      " 3: ──RX(0.3)──RY(0.785)──RZ(0.785)──┤ ⟨Z⟩ \n",
      "\n"
     ]
    }
   ],
   "source": [
    "import pennylane as qml\n",
    "from pennylane import numpy as np\n",
    "\n",
    "dev1 = qml.device(\"default.qubit\", wires=4)\n",
    "\n",
    "@qml.qnode(dev1)\n",
    "def circuit(params):\n",
    "    qml.RX(params[0], wires=0)\n",
    "    qml.RX(params[1], wires=1)\n",
    "    qml.RX(params[0], wires=2)\n",
    "    qml.RX(params[1], wires=3)\n",
    "    qml.RY(params[2], wires=0)\n",
    "    qml.RY(params[2], wires=1)\n",
    "    qml.RY(params[2], wires=2)\n",
    "    qml.RY(params[2], wires=3)\n",
    "    qml.RZ(params[2], wires=0)\n",
    "    qml.RZ(params[2], wires=1)\n",
    "    qml.RZ(params[2], wires=2)\n",
    "    qml.RZ(params[2], wires=3)\n",
    "    return qml.expval(qml.PauliZ(3))\n",
    "print(circuit([0.2,0.3,np.pi/4]))\n",
    "print(circuit.draw())"
   ]
  },
  {
   "cell_type": "code",
   "execution_count": null,
   "metadata": {},
   "outputs": [],
   "source": []
  },
  {
   "cell_type": "code",
   "execution_count": null,
   "metadata": {},
   "outputs": [],
   "source": []
  }
 ],
 "metadata": {
  "kernelspec": {
   "display_name": "Python 3",
   "language": "python",
   "name": "python3"
  },
  "language_info": {
   "codemirror_mode": {
    "name": "ipython",
    "version": 3
   },
   "file_extension": ".py",
   "mimetype": "text/x-python",
   "name": "python",
   "nbconvert_exporter": "python",
   "pygments_lexer": "ipython3",
   "version": "3.8.5"
  }
 },
 "nbformat": 4,
 "nbformat_minor": 4
}
