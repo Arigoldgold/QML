{
 "cells": [
  {
   "cell_type": "markdown",
   "metadata": {},
   "source": [
    "# Variational quantum classifier "
   ]
  },
  {
   "cell_type": "markdown",
   "metadata": {},
   "source": [
    "Fix Embedding Circle, Circuit Design 3 , opt = AdamOptimizer(0.005, beta1=0.9, beta2=0.9), Data Set 2"
   ]
  },
  {
   "cell_type": "markdown",
   "metadata": {},
   "source": [
    "Code Stub for a variational quantum classifier [from Pennylane, Automatic differentiation of hybrid quantum classical computations, Bergolm 2020]\n",
    "\n",
    "A supervised learning algorithm in which variational circuits (QNNs) are trained to perform classification tasks."
   ]
  },
  {
   "cell_type": "code",
   "execution_count": 1,
   "metadata": {},
   "outputs": [],
   "source": [
    "#Libraries\n",
    "import pennylane as qml\n",
    "from pennylane import numpy as np\n",
    "import numpy as npp\n",
    "import math\n",
    "from pennylane.optimize import AdamOptimizer, GradientDescentOptimizer\n",
    "import matplotlib.pyplot as plt\n",
    "from pennylane.ops import RX, RY, RZ\n",
    "from pennylane.operation import Operation, AnyWires, Expectation, Observable, Sample, Probability\n",
    "import time\n",
    "import scipy\n",
    "from IPython.display import display, Latex  "
   ]
  },
  {
   "cell_type": "markdown",
   "metadata": {},
   "source": [
    "Define the device : qdev 4 wires=4qubits"
   ]
  },
  {
   "cell_type": "code",
   "execution_count": 2,
   "metadata": {},
   "outputs": [],
   "source": [
    "dev = qml.device(\"default.qubit\", wires=4)"
   ]
  },
  {
   "cell_type": "markdown",
   "metadata": {},
   "source": [
    "We will now use the quantum circuit and QNode to build a variational classifier\n",
    "(Variational circuits are circuits that can be trained using supervised learning or labelled data to classify new data)"
   ]
  },
  {
   "cell_type": "markdown",
   "metadata": {},
   "source": [
    "# EmbeddingCircuit+Layers"
   ]
  },
  {
   "cell_type": "markdown",
   "metadata": {},
   "source": [
    "We use the (feature) embedding circuit or state preparation circuit as proposed by Hubregtsen: \n",
    "\n",
    "Embeddings encode input features into the quantum state of the circuit. Hence, they usually take a data sample such as a feature vector as an argument. Embeddings can also depend on trainable parameters, and they may be constructed from repeated layers."
   ]
  },
  {
   "cell_type": "code",
   "execution_count": 3,
   "metadata": {},
   "outputs": [],
   "source": [
    "#2dim_data_input, data on the x axis from the generated samples is embedded in qubit 0 and 2.\n",
    "#y axis data in 1 and 3\n",
    "\n",
    "def statepreparation(x,y):\n",
    "    qml.RX(x, wires=0)\n",
    "    qml.RX(y, wires=1)\n",
    "    qml.RX(x, wires=2)\n",
    "    qml.RX(y, wires=3)\n",
    "    qml.RY(np.pi/4, wires=0)\n",
    "    qml.RY(np.pi/4, wires=1)\n",
    "    qml.RY(np.pi/4, wires=2)\n",
    "    qml.RY(np.pi/4, wires=3)\n",
    "    qml.RZ(np.pi/4, wires=0)\n",
    "    qml.RZ(np.pi/4, wires=1)\n",
    "    qml.RZ(np.pi/4, wires=2)\n",
    "    qml.RZ(np.pi/4, wires=3)"
   ]
  },
  {
   "cell_type": "markdown",
   "metadata": {},
   "source": [
    "Variational classifiers usually define a “layer” or “block”, which is an elementary circuit architecture that gets repeated to build the variational circuit.\n",
    "\n"
   ]
  },
  {
   "cell_type": "markdown",
   "metadata": {},
   "source": [
    "Circuit 3 - Appendix B - Hubregtsen"
   ]
  },
  {
   "cell_type": "code",
   "execution_count": 4,
   "metadata": {},
   "outputs": [],
   "source": [
    "def layer(theta):\n",
    "    qml.RX(theta[0], wires=0)\n",
    "    qml.RX(theta[1], wires=1)\n",
    "    qml.RX(theta[2], wires=2)\n",
    "    qml.RX(theta[3], wires=3)\n",
    "    qml.RZ(theta[4], wires=0)\n",
    "    qml.RZ(theta[5], wires=1)\n",
    "    qml.RZ(theta[6], wires=2)\n",
    "    qml.RZ(theta[7], wires=3)\n",
    "    qml.CRZ(theta[8],wires=[3, 2])\n",
    "    qml.CRZ(theta[9],wires=[2, 1])\n",
    "    qml.CRZ(theta[10],wires=[1, 0])"
   ]
  },
  {
   "cell_type": "markdown",
   "metadata": {},
   "source": [
    "Define Qnode as statepreparation routine, followed by repetion of the layer structure\n",
    "#weights=angles--# Execute layers"
   ]
  },
  {
   "cell_type": "code",
   "execution_count": 5,
   "metadata": {},
   "outputs": [],
   "source": [
    "@qml.qnode(dev)\n",
    "def circuit(angles, x, y):\n",
    "    statepreparation(x, y)\n",
    "    for theta in angles:\n",
    "        layer(theta)\n",
    "    op0 = qml.Hermitian(np.array([[0, 0], [0, 1]]), wires=0)\n",
    "    op1 = qml.Hermitian(np.array([[0, 0], [0, 1]]), wires=1)\n",
    "    op2 = qml.Hermitian(np.array([[0, 0], [0, 1]]), wires=2)\n",
    "    op3 = qml.Hermitian(np.array([[0, 0], [0, 1]]), wires=3)\n",
    "    op_tot = qml.Hamiltonian([1, 2, 4, 8], [op0, op1, op2, op3])\n",
    "    return qml.expval(op_tot)\n",
    "        \n",
    "\n",
    "def convert_output(angles, x, y) -> int:\n",
    "    output = circuit(angles, x, y) \n",
    "    return 2*output/15 - 1"
   ]
  },
  {
   "cell_type": "markdown",
   "metadata": {},
   "source": [
    "# Variational Classifier/ Variationale Learner"
   ]
  },
  {
   "cell_type": "code",
   "execution_count": 6,
   "metadata": {},
   "outputs": [],
   "source": [
    "def model(x, var):\n",
    "    theta = var[0]\n",
    "    bias = var[1]\n",
    "    return circuit(angles, x) + bias\n",
    "\n",
    "#model=variational classifier"
   ]
  },
  {
   "cell_type": "markdown",
   "metadata": {},
   "source": [
    "# Cost"
   ]
  },
  {
   "cell_type": "code",
   "execution_count": 7,
   "metadata": {},
   "outputs": [],
   "source": [
    "# Compute loss\n",
    "def square_loss(labels, predictions):\n",
    "    loss = 0\n",
    "    for l, p in zip(labels, predictions):\n",
    "        loss = loss + (l - p) ** 2\n",
    "\n",
    "    loss = loss / len(labels)\n",
    "    return loss"
   ]
  },
  {
   "cell_type": "code",
   "execution_count": 8,
   "metadata": {},
   "outputs": [],
   "source": [
    "def accuracy(labels, predictions):\n",
    "\n",
    "    loss = 0\n",
    "    for l, p in zip(labels, predictions):\n",
    "        if abs(l - p) < 1e-5:\n",
    "            loss = loss + 1\n",
    "    loss = loss / len(labels)\n",
    "\n",
    "    return loss"
   ]
  },
  {
   "cell_type": "markdown",
   "metadata": {},
   "source": [
    "\n",
    "For learning tasks, the cost depends on the data - here the features and labels considered in the iteration of the optimization routine."
   ]
  },
  {
   "cell_type": "code",
   "execution_count": 9,
   "metadata": {},
   "outputs": [],
   "source": [
    "def cost(var, features_x, features_y, labels):\n",
    "    preds = []\n",
    "    for k in range(0, len(features_x)):\n",
    "        preds.append(convert_output(var, features_x[k], features_y[k]))\n",
    "    # preds = [convert_output_to_bit(var, x, y) for x in features_x for y in features_y]\n",
    "    return square_loss(labels, preds)"
   ]
  },
  {
   "cell_type": "markdown",
   "metadata": {},
   "source": [
    "# Generating different artifical DataSets "
   ]
  },
  {
   "cell_type": "markdown",
   "metadata": {},
   "source": [
    "We generate different Data Sets for the Optimization process"
   ]
  },
  {
   "cell_type": "markdown",
   "metadata": {},
   "source": [
    "# Data Set2\n"
   ]
  },
  {
   "cell_type": "markdown",
   "metadata": {},
   "source": [
    "DatasetFig2a, 3.2 (lin3,col2), Hubregtsen2020\n",
    "Make a dataset of points inside and outside of two non bordering circles. Here we can try out different data sets as suggested.\n"
   ]
  },
  {
   "cell_type": "code",
   "execution_count": 10,
   "metadata": {},
   "outputs": [
    {
     "name": "stdout",
     "output_type": "stream",
     "text": [
      "(1500,)\n",
      "(1500,)\n",
      "1500\n",
      "          x         y  labels\n",
      "0  0.680428  0.440657      -1\n",
      "1  0.772610  0.901413      -1\n",
      "2  0.561916  0.037813      -1\n",
      "3  0.552443  0.331679      -1\n",
      "4  0.151198  0.077160      -1\n"
     ]
    },
    {
     "data": {
      "image/png": "[encoded data removed]",
      "text/plain": [
       "<Figure size 288x288 with 1 Axes>"
      ]
     },
     "metadata": {
      "needs_background": "light"
     },
     "output_type": "display_data"
    }
   ],
   "source": [
    "def isnotcontainedinanycircle(centers, radius, x, y):\n",
    "    for center in centers:\n",
    "        if np.sqrt((x-center[0])**2 + (y - center[1])**2) < radius:\n",
    "            return False\n",
    "    return True\n",
    "\n",
    "def circle(samples, centers=[[0.25, 0.25],[0.75,0.75]], radius=0.15):\n",
    "    labels = []\n",
    "    xlist = []\n",
    "    ylist = []\n",
    "    \n",
    "    while len(labels) < int(samples/2):\n",
    "        x = np.random.rand()\n",
    "        y = np.random.rand()\n",
    "        if isnotcontainedinanycircle(centers, radius, x, y):\n",
    "            labels.append(-1)\n",
    "            xlist.append(x)\n",
    "            ylist.append(y) \n",
    "            \n",
    "    while len(labels) < samples:\n",
    "        x = np.random.rand()\n",
    "        y = np.random.rand()\n",
    "        if not isnotcontainedinanycircle(centers, radius, x, y):\n",
    "            labels.append(1)\n",
    "            xlist.append(x)\n",
    "            ylist.append(y)\n",
    "    \n",
    "    xvals = np.array(xlist, requires_grad = True)\n",
    "    yvals = np.array(ylist, requires_grad = True)\n",
    "    \n",
    "    return xvals, yvals, labels\n",
    "\n",
    "import pandas as pd\n",
    "\n",
    "\n",
    "def plot_data(xvals, yvals,labels, fig=None, ax=None):\n",
    "    if fig == None:\n",
    "        fig, ax = plt.subplots(1, 1, figsize=(5, 5))\n",
    "    #reds = labels == -1\n",
    "    #blues = labels == 1    \"\"=\"\" = zuweisung \"\"==\"\" = überprüfung auf gleichheiht\n",
    "    \n",
    "    df = pd.DataFrame()\n",
    "    df['x'] = xvals\n",
    "    df['y'] = yvals\n",
    "    df['labels'] = labels\n",
    "    print(df.head())\n",
    "    \n",
    "    df_minus_one = df[df['labels']==-1]\n",
    "    df_plus_one = df[df['labels']==1]\n",
    "    \n",
    "    #print(df_plus_one.head())\n",
    "    #print(df_minus_one.shape)\n",
    "    \n",
    "    ax.scatter(df_minus_one['x'], df_minus_one['y'], c=\"red\", s=25, edgecolor=\"k\")\n",
    "    ax.scatter(df_plus_one['x'], df_plus_one['y'], c=\"blue\", s=25, edgecolor=\"k\")\n",
    "    ax.set_xlabel(\"$x_1$\")\n",
    "    ax.set_ylabel(\"$x_2$\")\n",
    "    \n",
    "    \n",
    "\n",
    "xvals, yvals, labels = circle(1500)\n",
    "\n",
    "print(xvals.shape)\n",
    "print(yvals.shape)\n",
    "print(len(labels))\n",
    "\n",
    "fig, ax = plt.subplots(1, 1, figsize=(4, 4))\n",
    "plot_data(xvals, yvals, labels, fig=fig, ax=ax)\n",
    "plt.xlim(0,1)\n",
    "plt.ylim(0,1)\n",
    "plt.show()"
   ]
  },
  {
   "cell_type": "markdown",
   "metadata": {},
   "source": [
    "# Optimization "
   ]
  },
  {
   "cell_type": "markdown",
   "metadata": {},
   "source": [
    "We can train the classifier to generalize the input-output relation of a training dataset.\n",
    "\n",
    "The variables are initialized as a tuple containing the bias and the weight matrix. \n",
    "In the optimization loop, we feed a Python lambda function into the optimizer. \n",
    "Since the optimizer expects a function with a single input argument,\n",
    "this is a way to feed both X and Y into the cost."
   ]
  },
  {
   "cell_type": "code",
   "execution_count": 11,
   "metadata": {},
   "outputs": [],
   "source": [
    "n_samples = 100\n",
    "x_data, y_data, labels_data = circle(n_samples)"
   ]
  },
  {
   "cell_type": "code",
   "execution_count": 12,
   "metadata": {},
   "outputs": [],
   "source": [
    "n_samples =1500\n",
    "x_data, y_data, labels_data = circle(n_samples)\n",
    "# Generate training and test data\n",
    "num_training = 900\n",
    "num_test = 300\n",
    "\n",
    "x_data, y_train, labels = circle(num_training)\n",
    "x_train = np.hstack((x_data, np.zeros([x_data.shape[0], 1])))\n",
    "\n",
    "xtest, y_test, labels = circle(num_test)\n",
    "x_test = np.hstack((xtest, np.zeros(([xtest.shape[0], 1])))"
   ]
  },
  {
   "cell_type": "code",
   "execution_count": 13,
   "metadata": {},
   "outputs": [
    {
     "name": "stdout",
     "output_type": "stream",
     "text": [
      "[tensor([-0.66505399,  0.30641023, -0.29749919, -0.88368907, -0.49935055,\n",
      "        -0.15732029, -0.32769707, -0.43834738,  0.79943364,  0.76833104,\n",
      "        -0.84632585], requires_grad=True)]\n"
     ]
    }
   ],
   "source": [
    "n_layers = 1\n",
    "n_params = 11 #numbers of params per layer\n",
    "var_init= [np.random.rand(n_params)*2 - 1 for _ in range(n_layers)]\n",
    "print(var_init)"
   ]
  },
  {
   "cell_type": "markdown",
   "metadata": {},
   "source": [
    "# Adam Optimizer"
   ]
  },
  {
   "cell_type": "code",
   "execution_count": 14,
   "metadata": {},
   "outputs": [],
   "source": [
    "# Create optimizer \n",
    "opt = AdamOptimizer(0.005, beta1=0.9, beta2=0.9)\n"
   ]
  },
  {
   "cell_type": "markdown",
   "metadata": {},
   "source": [
    "# Train the model = optimize circuit output"
   ]
  },
  {
   "cell_type": "code",
   "execution_count": 16,
   "metadata": {},
   "outputs": [
    {
     "name": "stdout",
     "output_type": "stream",
     "text": [
      "Iter:     0 | Cost: 1.3535069 \n",
      "Iter:     1 | Cost: 1.3499114 \n",
      "Iter:     2 | Cost: 1.3472130 \n",
      "Iter:     3 | Cost: 1.3448977 \n",
      "Iter:     4 | Cost: 1.3428012 \n",
      "Iter:     5 | Cost: 1.3408471 \n",
      "Iter:     6 | Cost: 1.3389925 \n",
      "Iter:     7 | Cost: 1.3372105 \n",
      "Iter:     8 | Cost: 1.3354831 \n",
      "Iter:     9 | Cost: 1.3337973 \n",
      "Iter:    10 | Cost: 1.3321437 \n",
      "Iter:    11 | Cost: 1.3305149 \n",
      "Iter:    12 | Cost: 1.3289052 \n",
      "Iter:    13 | Cost: 1.3273101 \n",
      "Iter:    14 | Cost: 1.3257260 \n",
      "Iter:    15 | Cost: 1.3241499 \n",
      "Iter:    16 | Cost: 1.3225792 \n",
      "Iter:    17 | Cost: 1.3210119 \n",
      "Iter:    18 | Cost: 1.3194463 \n",
      "Iter:    19 | Cost: 1.3178808 \n",
      "Iter:    20 | Cost: 1.3163142 \n",
      "Iter:    21 | Cost: 1.3147455 \n",
      "Iter:    22 | Cost: 1.3131737 \n",
      "Iter:    23 | Cost: 1.3115980 \n",
      "Iter:    24 | Cost: 1.3100179 \n",
      "Iter:    25 | Cost: 1.3084326 \n",
      "Iter:    26 | Cost: 1.3068417 \n",
      "Iter:    27 | Cost: 1.3052448 \n",
      "Iter:    28 | Cost: 1.3036416 \n",
      "Iter:    29 | Cost: 1.3020317 \n",
      "Iter:    30 | Cost: 1.3004149 \n",
      "Iter:    31 | Cost: 1.2987910 \n",
      "Iter:    32 | Cost: 1.2971598 \n",
      "Iter:    33 | Cost: 1.2955212 \n",
      "Iter:    34 | Cost: 1.2938750 \n",
      "Iter:    35 | Cost: 1.2922213 \n",
      "Iter:    36 | Cost: 1.2905598 \n",
      "Iter:    37 | Cost: 1.2888907 \n",
      "Iter:    38 | Cost: 1.2872139 \n",
      "Iter:    39 | Cost: 1.2855293 \n",
      "Iter:    40 | Cost: 1.2838371 \n",
      "Iter:    41 | Cost: 1.2821372 \n",
      "Iter:    42 | Cost: 1.2804297 \n",
      "Iter:    43 | Cost: 1.2787146 \n",
      "Iter:    44 | Cost: 1.2769920 \n",
      "Iter:    45 | Cost: 1.2752620 \n",
      "Iter:    46 | Cost: 1.2735247 \n",
      "Iter:    47 | Cost: 1.2717801 \n",
      "Iter:    48 | Cost: 1.2700284 \n",
      "Iter:    49 | Cost: 1.2682696 \n"
     ]
    },
    {
     "data": {
      "image/png": "[encoded data removed]",
      "text/plain": [
       "<Figure size 432x288 with 1 Axes>"
      ]
     },
     "metadata": {
      "needs_background": "light"
     },
     "output_type": "display_data"
    },
    {
     "name": "stdout",
     "output_type": "stream",
     "text": [
      "Computation time = 270.9502007961273 s\n"
     ]
    }
   ],
   "source": [
    "import pickle as p\n",
    "\n",
    "n_iter = 50\n",
    "\n",
    "start = time.time()\n",
    "\n",
    "var = var_init\n",
    "retval = []\n",
    "for it in range(n_iter):\n",
    "    var, _cost = opt.step_and_cost(lambda v: cost(v, x_data, y_data, labels_data),var)\n",
    "    print(\"Iter: {:5d} | Cost: {:0.7f} \".format(it, _cost))\n",
    "    retval.append([it,_cost])\n",
    "    \n",
    "end = time.time()\n",
    "with open('/Users/ariane/pennysboat/Aricatlover66/klausdetle.detle','wb') as f:\n",
    "    p.dump(retval,f)\n",
    "    \n",
    "plt.figure()\n",
    "retval = np.array(retval)\n",
    "\n",
    "plt.scatter(retval[:,0],retval[:,1],color=[1,0,0])\n",
    "plt.plot(retval[:,0],retval[:,1],color=[0,0,1])\n",
    "plt.grid()\n",
    "plt.xlabel('n_iter')\n",
    "plt.ylabel('cost')\n",
    "plt.show()\n",
    " \n",
    "print('Computation time = {} s'.format(end - start))"
   ]
  }
 ],
 "metadata": {
  "kernelspec": {
   "display_name": "Python 3",
   "language": "python",
   "name": "python3"
  },
  "language_info": {
   "codemirror_mode": {
    "name": "ipython",
    "version": 3
   },
   "file_extension": ".py",
   "mimetype": "text/x-python",
   "name": "python",
   "nbconvert_exporter": "python",
   "pygments_lexer": "ipython3",
   "version": "3.8.5"
  }
 },
 "nbformat": 4,
 "nbformat_minor": 4
}
